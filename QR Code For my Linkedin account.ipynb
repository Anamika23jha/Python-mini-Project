{
 "cells": [
  {
   "cell_type": "code",
   "execution_count": 1,
   "id": "a4bae448",
   "metadata": {},
   "outputs": [
    {
     "name": "stdout",
     "output_type": "stream",
     "text": [
      "Collecting qrcode\n",
      "  Downloading qrcode-7.4.2-py3-none-any.whl (46 kB)\n",
      "                                              0.0/46.2 kB ? eta -:--:--\n",
      "     ---------------------------------------- 46.2/46.2 kB 2.4 MB/s eta 0:00:00\n",
      "Requirement already satisfied: typing-extensions in c:\\users\\jaine\\anaconda3\\lib\\site-packages (from qrcode) (4.8.0)\n",
      "Collecting pypng (from qrcode)\n",
      "  Downloading pypng-0.20220715.0-py3-none-any.whl (58 kB)\n",
      "                                              0.0/58.1 kB ? eta -:--:--\n",
      "     ---------------------------------------- 58.1/58.1 kB ? eta 0:00:00\n",
      "Requirement already satisfied: colorama in c:\\users\\jaine\\anaconda3\\lib\\site-packages (from qrcode) (0.4.6)\n",
      "Installing collected packages: pypng, qrcode\n",
      "Successfully installed pypng-0.20220715.0 qrcode-7.4.2\n"
     ]
    }
   ],
   "source": [
    "!pip install qrcode"
   ]
  },
  {
   "cell_type": "code",
   "execution_count": 2,
   "id": "fdfbdf67",
   "metadata": {},
   "outputs": [],
   "source": [
    "import qrcode"
   ]
  },
  {
   "cell_type": "code",
   "execution_count": 14,
   "id": "7d037421",
   "metadata": {},
   "outputs": [],
   "source": [
    "features = qrcode.QRCode(version=1,box_size=10,border=3)"
   ]
  },
  {
   "cell_type": "code",
   "execution_count": 15,
   "id": "0fef0de7",
   "metadata": {},
   "outputs": [],
   "source": [
    "features.add_data('https://www.linkedin.com/in/anamika-kumari-290b81239/')"
   ]
  },
  {
   "cell_type": "code",
   "execution_count": 16,
   "id": "894143c2",
   "metadata": {},
   "outputs": [],
   "source": [
    "features.make(fit=True)"
   ]
  },
  {
   "cell_type": "code",
   "execution_count": 17,
   "id": "4798496c",
   "metadata": {},
   "outputs": [],
   "source": [
    "generate_image = features.make_image(fill_color='black',back_color='white')\n",
    "generate_image.save('image.png')"
   ]
  },
  {
   "cell_type": "code",
   "execution_count": null,
   "id": "e59340aa",
   "metadata": {},
   "outputs": [],
   "source": []
  },
  {
   "cell_type": "code",
   "execution_count": null,
   "id": "fade2d29",
   "metadata": {},
   "outputs": [],
   "source": []
  },
  {
   "cell_type": "code",
   "execution_count": null,
   "id": "7304ad01",
   "metadata": {},
   "outputs": [],
   "source": []
  },
  {
   "cell_type": "code",
   "execution_count": null,
   "id": "b422dcef",
   "metadata": {},
   "outputs": [],
   "source": []
  },
  {
   "cell_type": "code",
   "execution_count": null,
   "id": "316d65e6",
   "metadata": {},
   "outputs": [],
   "source": []
  },
  {
   "cell_type": "code",
   "execution_count": null,
   "id": "9298c3af",
   "metadata": {},
   "outputs": [],
   "source": []
  }
 ],
 "metadata": {
  "kernelspec": {
   "display_name": "Python 3 (ipykernel)",
   "language": "python",
   "name": "python3"
  },
  "language_info": {
   "codemirror_mode": {
    "name": "ipython",
    "version": 3
   },
   "file_extension": ".py",
   "mimetype": "text/x-python",
   "name": "python",
   "nbconvert_exporter": "python",
   "pygments_lexer": "ipython3",
   "version": "3.11.3"
  }
 },
 "nbformat": 4,
 "nbformat_minor": 5
}
